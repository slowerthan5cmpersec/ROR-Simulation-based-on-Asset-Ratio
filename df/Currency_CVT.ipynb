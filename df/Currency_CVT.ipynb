{
 "cells": [
  {
   "cell_type": "code",
   "execution_count": null,
   "metadata": {
    "collapsed": true,
    "id": "0deKGD-_Lzak"
   },
   "outputs": [],
   "source": [
    "import pandas as pd\n",
    "\n",
    "url = \"\"\n",
    "currency_df = pd.read_csv(url)\n",
    "currency_df[\"날짜\"] = pd.to_datetime(currency_df[\"날짜\"])\n",
    "currency_df = currency_df.set_index(\"날짜\")\n"
   ]
  },
  {
   "cell_type": "code",
   "execution_count": null,
   "metadata": {
    "colab": {
     "base_uri": "https://localhost:8080/"
    },
    "executionInfo": {
     "elapsed": 17,
     "status": "ok",
     "timestamp": 1750485507824,
     "user": {
      "displayName": "박시현",
      "userId": "11340315770962939289"
     },
     "user_tz": -540
    },
    "id": "SGKMTjG0U7Lp",
    "outputId": "eb53adea-dad4-4904-cb3a-a35a2c1bc36f"
   },
   "outputs": [
    {
     "data": {
      "text/plain": [
       "np.float64(1118.1)"
      ]
     },
     "execution_count": 2,
     "metadata": {},
     "output_type": "execute_result"
    }
   ],
   "source": [
    "currency_df[\"환율\"].iloc[0]"
   ]
  },
  {
   "cell_type": "code",
   "execution_count": null,
   "metadata": {
    "colab": {
     "base_uri": "https://localhost:8080/"
    },
    "executionInfo": {
     "elapsed": 18516,
     "status": "ok",
     "timestamp": 1750485526328,
     "user": {
      "displayName": "박시현",
      "userId": "11340315770962939289"
     },
     "user_tz": -540
    },
    "id": "m3vaYshBNfdy",
    "outputId": "2f9b5274-1d95-4043-9f0f-24ab571119fe"
   },
   "outputs": [
    {
     "name": "stdout",
     "output_type": "stream",
     "text": [
      "Mounted at /content/drive\n",
      "/content/drive/MyDrive/확률통계론_프로젝트\n",
      "/content/drive/MyDrive/확률통계론_프로젝트\n"
     ]
    }
   ],
   "source": [
    "from google.colab import drive\n",
    "drive.mount('/content/drive')\n",
    "%cd drive/MyDrive/확률통계론_프로젝트\n",
    "!pwd"
   ]
  },
  {
   "cell_type": "code",
   "execution_count": null,
   "metadata": {
    "id": "NKi8MU7-NnRP"
   },
   "outputs": [],
   "source": [
    "import os\n",
    "import natsort\n",
    "\n",
    "Asset_Names = [\"RAW_ORG\", 'CRYPTO_ORG'] # \"N_BOND_ORG\", \"N_ETF_ORG\",\"NASDAQ_ORG\"\n",
    "\n",
    "df_path = \"df/\"\n",
    "\n",
    "Data_List = []\n",
    "Name_List = []\n",
    "\n",
    "for i ,name in enumerate(Asset_Names):\n",
    "  df_list = natsort.natsorted(os.listdir(df_path + name))\n",
    "  Data_List.append([])\n",
    "  Name_List.append([])\n",
    "\n",
    "  for csv in df_list:\n",
    "    df = pd.read_csv(df_path + name + '/' + csv, encoding='utf-8-sig')\n",
    "    df[\"Date\"] = pd.to_datetime(df[\"Date\"])\n",
    "    df = df.set_index(\"Date\")\n",
    "    Data_List[i].append(df)\n",
    "    Name_List[i].append(csv)\n"
   ]
  },
  {
   "cell_type": "code",
   "execution_count": null,
   "metadata": {
    "collapsed": true,
    "id": "5HTJLlLjaeud"
   },
   "outputs": [],
   "source": [
    "t_csv = Data_List[1][0]\n",
    "today_currency = currency_df['환율'].iloc[1]\n",
    "\n",
    "print(t_csv[['Low', 'Open', 'Close', 'High']].iloc[1])\n",
    "\n",
    "# 환율 곱하기\n",
    "result = t_csv.loc[t_csv.index[1], ['Low', 'Open', 'Close', 'High']].mul(today_currency)\n",
    "\n",
    "# 원본에 반영\n",
    "t_csv.loc[t_csv.index[1], ['Low', 'Open', 'Close', 'High']] = result\n",
    "\n",
    "print(t_csv[['Low', 'Open', 'Close', 'High']].iloc[1])\n"
   ]
  },
  {
   "cell_type": "code",
   "execution_count": null,
   "metadata": {
    "colab": {
     "base_uri": "https://localhost:8080/"
    },
    "collapsed": true,
    "executionInfo": {
     "elapsed": 22,
     "status": "ok",
     "timestamp": 1750407335821,
     "user": {
      "displayName": "박시현",
      "userId": "11340315770962939289"
     },
     "user_tz": -540
    },
    "id": "EKDOBNOzZinL",
    "outputId": "6d3de594-a1a5-403e-9812-43009445ee4d"
   },
   "outputs": [
    {
     "name": "stdout",
     "output_type": "stream",
     "text": [
      "Low      55.163483\n",
      "Open     55.737075\n",
      "Close    55.208294\n",
      "High     55.799811\n",
      "Name: 2019-01-03 00:00:00, dtype: float64\n",
      "Low      55.163483\n",
      "Open     55.737075\n",
      "Close    55.208294\n",
      "High     55.799811\n",
      "Name: 2019-01-03 00:00:00, dtype: float64\n"
     ]
    },
    {
     "name": "stderr",
     "output_type": "stream",
     "text": [
      "/tmp/ipython-input-6-1341350726.py:5: FutureWarning: ChainedAssignmentError: behaviour will change in pandas 3.0!\n",
      "You are setting values through chained assignment. Currently this works in certain cases, but when using Copy-on-Write (which will become the default behaviour in pandas 3.0) this will never work to update the original DataFrame or Series, because the intermediate object on which we are setting values will behave as a copy.\n",
      "A typical example is when you are setting values in a column of a DataFrame, like:\n",
      "\n",
      "df[\"col\"][row_indexer] = value\n",
      "\n",
      "Use `df.loc[row_indexer, \"col\"] = values` instead, to perform the assignment in a single step and ensure this keeps updating the original `df`.\n",
      "\n",
      "See the caveats in the documentation: https://pandas.pydata.org/pandas-docs/stable/user_guide/indexing.html#returning-a-view-versus-a-copy\n",
      "\n",
      "  t_csv[['Low', 'Open', 'Close', 'High']].iloc[1] = result\n",
      "/tmp/ipython-input-6-1341350726.py:5: SettingWithCopyWarning: \n",
      "A value is trying to be set on a copy of a slice from a DataFrame\n",
      "\n",
      "See the caveats in the documentation: https://pandas.pydata.org/pandas-docs/stable/user_guide/indexing.html#returning-a-view-versus-a-copy\n",
      "  t_csv[['Low', 'Open', 'Close', 'High']].iloc[1] = result\n"
     ]
    }
   ],
   "source": [
    "t_csv = Data_List[1][0]\n",
    "today_currency = currency_df['환율'].iloc[1]\n",
    "print(t_csv[['Low', 'Open', 'Close', 'High']].iloc[1])\n",
    "result = t_csv[['Low', 'Open', 'Close', 'High']].iloc[1].mul(today_currency)\n",
    "t_csv[['Low', 'Open', 'Close', 'High']].iloc[1] = result\n",
    "print(t_csv[['Low', 'Open', 'Close', 'High']].iloc[1])"
   ]
  },
  {
   "cell_type": "code",
   "execution_count": null,
   "metadata": {
    "colab": {
     "base_uri": "https://localhost:8080/"
    },
    "executionInfo": {
     "elapsed": 54753,
     "status": "ok",
     "timestamp": 1750485612450,
     "user": {
      "displayName": "박시현",
      "userId": "11340315770962939289"
     },
     "user_tz": -540
    },
    "id": "8kUd_SgNPfYU",
    "outputId": "536ac726-abde-4be1-b6c2-5f0d9547d234"
   },
   "outputs": [],
   "source": [
    "Asset_Names = [\"RAW\", 'CRYPTO']  # \"N_BOND\", \"N_ETF\",\n",
    "\n",
    "\n",
    "for i ,asset_name in enumerate(Asset_Names):\n",
    "  kind = Data_List[i]\n",
    "  csv_names = Name_List[i]\n",
    "  for j, csv in enumerate(kind):\n",
    "\n",
    "    for date in csv.index:\n",
    "      try:\n",
    "        today_currency = currency_df['환율'].loc[date]\n",
    "\n",
    "        result = csv.loc[date, ['Low', 'Open', 'Close', 'High']].mul(today_currency)\n",
    "\n",
    "        csv.loc[date, ['Low', 'Open', 'Close', 'High']] = result\n",
    "\n",
    "        # csv[['Low', 'Open', 'Close', 'High']].loc[date] = csv[['Low', 'Open', 'Close', 'High']].loc[date].mul(today_currency)\n",
    "      except:\n",
    "        x = 0\n",
    "\n",
    "    csv_name = csv_names[j]\n",
    "    csv.to_csv(df_path+asset_name+'/'+csv_name, encoding='utf-8-sig')\n"
   ]
  },
  {
   "cell_type": "code",
   "execution_count": null,
   "metadata": {
    "colab": {
     "base_uri": "https://localhost:8080/"
    },
    "executionInfo": {
     "elapsed": 10,
     "status": "ok",
     "timestamp": 1750485984780,
     "user": {
      "displayName": "박시현",
      "userId": "11340315770962939289"
     },
     "user_tz": -540
    },
    "id": "IeybDxmvGFZN",
    "outputId": "64b60653-da3a-449c-9288-cb43bc51cd77"
   },
   "outputs": [
    {
     "name": "stdout",
     "output_type": "stream",
     "text": [
      "Rank: 8\n"
     ]
    }
   ],
   "source": [
    "import numpy as np\n",
    "\n",
    "data = np.array([\n",
    "    [0.5, 0.0, 0.0, 0.5, 0.0, 0.0, 0.0, 0.0, 0.0, 0.0, 0.1],\n",
    "    [0.000, 0.100, 0.400, 0.000, 0.000, 0.300, 0.000, 0.000, 0.000, 0.000, 0.200],\n",
    "    [0.200, 0.000, 0.000, 0.375, 0.200, 0.000, 0.000, 0.000, 0.000, 0.000, 0.100],\n",
    "    [0.000, 0.000, 0.071, 0.000, 0.143, 0.000, 0.000, 0.286, 0.000, 0.000, 0.286],\n",
    "    [0.000, 0.300, 0.000, 0.200, 0.000, 0.300, 0.000, 0.000, 0.000, 0.000, 0.200],\n",
    "    [0.200, 0.000, 0.000, 0.000, 0.400, 0.000, 0.000, 0.400, 0.000, 0.000, 0.000],\n",
    "    [0.250, 0.250, 0.000, 0.250, 0.250, 0.000, 0.000, 0.000, 0.000, 0.000, 0.000],\n",
    "    [0.500, 0.167, 0.333, 0.000, 0.000, 0.000, 0.000, 0.000, 0.000, 0.000, 0.000],\n",
    "    [0.333, 0.000, 0.000, 0.500, 0.167, 0.000, 0.000, 0.000, 0.000, 0.000, 0.000],\n",
    "    [0.111, 0.222, 0.000, 0.429, 0.111, 0.000, 0.000, 0.000, 0.000, 0.000, 0.000],\n",
    "    [2.0, 1.0, 0.8, 2.2, 1.3, 0.6, 0.0, 0.7, 0.0, 0, 0.9]\n",
    "])\n",
    "\n",
    "rank = np.linalg.matrix_rank(data)\n",
    "print(\"Rank:\", rank)\n",
    "\n"
   ]
  },
  {
   "cell_type": "code",
   "execution_count": null,
   "metadata": {
    "colab": {
     "base_uri": "https://localhost:8080/"
    },
    "executionInfo": {
     "elapsed": 4632,
     "status": "ok",
     "timestamp": 1750486119350,
     "user": {
      "displayName": "박시현",
      "userId": "11340315770962939289"
     },
     "user_tz": -540
    },
    "id": "XI_7MYuYGlyt",
    "outputId": "12d3b35d-d95e-4a50-8662-f7b6ffbc6cca"
   },
   "outputs": [
    {
     "name": "stdout",
     "output_type": "stream",
     "text": [
      "Pivot columns: (0, 1, 2, 3, 4, 5, 7, 10)\n"
     ]
    }
   ],
   "source": [
    "import numpy as np\n",
    "from sympy import Matrix\n",
    "\n",
    "# 데이터 입력\n",
    "data = np.array([\n",
    "    [0.5, 0.0, 0.0, 0.5, 0.0, 0.0, 0.0, 0.0, 0.0, 0.0, 0.1],\n",
    "    [0.000, 0.100, 0.400, 0.000, 0.000, 0.300, 0.000, 0.000, 0.000, 0.000, 0.200],\n",
    "    [0.200, 0.000, 0.000, 0.375, 0.200, 0.000, 0.000, 0.000, 0.000, 0.000, 0.100],\n",
    "    [0.000, 0.000, 0.071, 0.000, 0.143, 0.000, 0.000, 0.286, 0.000, 0.000, 0.286],\n",
    "    [0.000, 0.300, 0.000, 0.200, 0.000, 0.300, 0.000, 0.000, 0.000, 0.000, 0.200],\n",
    "    [0.200, 0.000, 0.000, 0.000, 0.400, 0.000, 0.000, 0.400, 0.000, 0.000, 0.000],\n",
    "    [0.250, 0.250, 0.000, 0.250, 0.250, 0.000, 0.000, 0.000, 0.000, 0.000, 0.000],\n",
    "    [0.500, 0.167, 0.333, 0.000, 0.000, 0.000, 0.000, 0.000, 0.000, 0.000, 0.000],\n",
    "    [0.333, 0.000, 0.000, 0.500, 0.167, 0.000, 0.000, 0.000, 0.000, 0.000, 0.000],\n",
    "    [0.111, 0.222, 0.000, 0.429, 0.111, 0.000, 0.000, 0.000, 0.000, 0.000, 0.000],\n",
    "    [2.0, 1.0, 0.8, 2.2, 1.3, 0.6, 0.0, 0.7, 0.0, 0, 0.9]\n",
    "])\n",
    "\n",
    "# SymPy를 이용해 RREF 확인\n",
    "M = Matrix(data)\n",
    "rref_matrix, pivot_columns = M.rref()\n",
    "\n",
    "print(\"Pivot columns:\", pivot_columns)\n"
   ]
  }
 ],
 "metadata": {
  "colab": {
   "authorship_tag": "ABX9TyOnILm946jQOUpXNevipa0y",
   "provenance": []
  },
  "kernelspec": {
   "display_name": "Python 3",
   "name": "python3"
  },
  "language_info": {
   "name": "python"
  }
 },
 "nbformat": 4,
 "nbformat_minor": 0
}

