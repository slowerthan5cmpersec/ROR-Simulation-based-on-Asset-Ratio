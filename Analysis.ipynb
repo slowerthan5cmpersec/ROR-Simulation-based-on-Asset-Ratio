{
 "cells": [
  {
   "cell_type": "markdown",
   "metadata": {
    "id": "rlSyUt4rHevQ"
   },
   "source": [
    "# 구글 드라이브 연결"
   ]
  },
  {
   "cell_type": "code",
   "execution_count": null,
   "metadata": {
    "colab": {
     "base_uri": "https://localhost:8080/"
    },
    "executionInfo": {
     "elapsed": 24405,
     "status": "ok",
     "timestamp": 1749357283411,
     "user": {
      "displayName": "김재훈",
      "userId": "15189476045635890610"
     },
     "user_tz": -540
    },
    "id": "kvcYsnFQHXHX",
    "outputId": "82a2a28d-607a-4e7b-e4f8-26321ac45ca8"
   },
   "outputs": [
    {
     "name": "stdout",
     "output_type": "stream",
     "text": [
      "Mounted at /content/drive\n",
      "/content\n"
     ]
    }
   ],
   "source": [
    "from google.colab import drive\n",
    "drive.mount('/content/drive')\n",
    "%cd drive/MyDrive/확률통계론_프로젝트\n",
    "!pwd"
   ]
  },
  {
   "cell_type": "markdown",
   "metadata": {
    "id": "EcbH1-oLH79A"
   },
   "source": [
    "# 데이터 로딩 & 전처리"
   ]
  },
  {
   "cell_type": "code",
   "execution_count": null,
   "metadata": {
    "colab": {
     "base_uri": "https://localhost:8080/",
     "height": 356
    },
    "executionInfo": {
     "elapsed": 2303,
     "status": "error",
     "timestamp": 1749357289865,
     "user": {
      "displayName": "김재훈",
      "userId": "15189476045635890610"
     },
     "user_tz": -540
    },
    "id": "g0WmS10FH_Iq",
    "outputId": "0b00513e-ab34-4f51-857f-8f1dace85a76"
   },
   "outputs": [],
   "source": [
    "import pandas as pd\n",
    "\n",
    "df_stock_price = pd.read_csv(\"./drive/MyDrive/확률통계론_프로젝트/df/domestic/삼성전자.csv\", encoding='utf-8-sig')\n",
    "df_blabla      = pd.read_csv(\"./drive/MyDrive/확률통계론_프로젝트/df/                    \", encoding='utf-8-sig')\n"
   ]
  },
  {
   "cell_type": "markdown",
   "metadata": {
    "id": "JooFm92qHjJi"
   },
   "source": [
    "# 시각화"
   ]
  },
  {
   "cell_type": "code",
   "execution_count": null,
   "metadata": {
    "id": "8EUUpP8rHhRN"
   },
   "outputs": [],
   "source": [
    "import matplotlib.pyplot as plt\n",
    "\n",
    "x = [] # df_stock_price.index # dates\n",
    "y = []\n",
    "plt.plot(x, y)\n",
    "\n",
    "plt.figure()"
   ]
  },
  {
   "cell_type": "markdown",
   "metadata": {
    "id": "TpBPp57KHtV0"
   },
   "source": [
    "# 모수추정"
   ]
  },
  {
   "cell_type": "code",
   "execution_count": null,
   "metadata": {
    "id": "nrjMcHPpH0UN"
   },
   "outputs": [],
   "source": []
  },
  {
   "cell_type": "markdown",
   "metadata": {
    "id": "HBbVMNB4H0lT"
   },
   "source": [
    "# 상관분석"
   ]
  },
  {
   "cell_type": "code",
   "execution_count": null,
   "metadata": {
    "id": "1SgTI6RTH2fb"
   },
   "outputs": [],
   "source": []
  }
 ],
 "metadata": {
  "colab": {
   "provenance": []
  },
  "kernelspec": {
   "display_name": "Python 3",
   "name": "python3"
  },
  "language_info": {
   "name": "python"
  }
 },
 "nbformat": 4,
 "nbformat_minor": 0
}
